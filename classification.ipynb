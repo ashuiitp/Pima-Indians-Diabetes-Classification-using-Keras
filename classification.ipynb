{
  "nbformat": 4,
  "nbformat_minor": 0,
  "metadata": {
    "colab": {
      "name": "github_diabetes.ipynb",
      "provenance": [],
      "collapsed_sections": []
    },
    "kernelspec": {
      "display_name": "Python 3",
      "name": "python3"
    },
    "language_info": {
      "name": "python"
    },
    "accelerator": "GPU"
  },
  "cells": [
    {
      "cell_type": "markdown",
      "metadata": {
        "id": "waGoexAN9-oj"
      },
      "source": [
        "## IMPORTING LIBRARIES"
      ]
    },
    {
      "cell_type": "code",
      "metadata": {
        "id": "W3ftV_Mz7hz4"
      },
      "source": [
        "import pandas as pd\n",
        "from keras.models import Sequential\n",
        "from keras.layers import Dense, Dropout\n",
        "import numpy as np\n",
        "from sklearn.model_selection import train_test_split\n",
        "from tensorflow.keras import regularizers\n",
        "from sklearn.preprocessing import StandardScaler\n",
        "from keras.callbacks import EarlyStopping"
      ],
      "execution_count": 4,
      "outputs": []
    },
    {
      "cell_type": "markdown",
      "metadata": {
        "id": "iLvzgAN7-EgI"
      },
      "source": [
        "## IMPORTING DATASET"
      ]
    },
    {
      "cell_type": "code",
      "metadata": {
        "id": "fDlxZMbh8pcW"
      },
      "source": [
        "df = pd.read_csv('diabetes.csv')"
      ],
      "execution_count": 5,
      "outputs": []
    },
    {
      "cell_type": "code",
      "metadata": {
        "colab": {
          "base_uri": "https://localhost:8080/",
          "height": 215
        },
        "id": "vaTO0R6I9Cwj",
        "outputId": "13a4e903-2976-4efc-93cc-c0da74749254"
      },
      "source": [
        "df.head()"
      ],
      "execution_count": 6,
      "outputs": [
        {
          "output_type": "execute_result",
          "data": {
            "text/html": [
              "<div>\n",
              "<style scoped>\n",
              "    .dataframe tbody tr th:only-of-type {\n",
              "        vertical-align: middle;\n",
              "    }\n",
              "\n",
              "    .dataframe tbody tr th {\n",
              "        vertical-align: top;\n",
              "    }\n",
              "\n",
              "    .dataframe thead th {\n",
              "        text-align: right;\n",
              "    }\n",
              "</style>\n",
              "<table border=\"1\" class=\"dataframe\">\n",
              "  <thead>\n",
              "    <tr style=\"text-align: right;\">\n",
              "      <th></th>\n",
              "      <th>Pregnancies</th>\n",
              "      <th>Glucose</th>\n",
              "      <th>BloodPressure</th>\n",
              "      <th>SkinThickness</th>\n",
              "      <th>Insulin</th>\n",
              "      <th>BMI</th>\n",
              "      <th>DiabetesPedigreeFunction</th>\n",
              "      <th>Age</th>\n",
              "      <th>Outcome</th>\n",
              "    </tr>\n",
              "  </thead>\n",
              "  <tbody>\n",
              "    <tr>\n",
              "      <th>0</th>\n",
              "      <td>6</td>\n",
              "      <td>148</td>\n",
              "      <td>72</td>\n",
              "      <td>35</td>\n",
              "      <td>0</td>\n",
              "      <td>33.6</td>\n",
              "      <td>0.627</td>\n",
              "      <td>50</td>\n",
              "      <td>1</td>\n",
              "    </tr>\n",
              "    <tr>\n",
              "      <th>1</th>\n",
              "      <td>1</td>\n",
              "      <td>85</td>\n",
              "      <td>66</td>\n",
              "      <td>29</td>\n",
              "      <td>0</td>\n",
              "      <td>26.6</td>\n",
              "      <td>0.351</td>\n",
              "      <td>31</td>\n",
              "      <td>0</td>\n",
              "    </tr>\n",
              "    <tr>\n",
              "      <th>2</th>\n",
              "      <td>8</td>\n",
              "      <td>183</td>\n",
              "      <td>64</td>\n",
              "      <td>0</td>\n",
              "      <td>0</td>\n",
              "      <td>23.3</td>\n",
              "      <td>0.672</td>\n",
              "      <td>32</td>\n",
              "      <td>1</td>\n",
              "    </tr>\n",
              "    <tr>\n",
              "      <th>3</th>\n",
              "      <td>1</td>\n",
              "      <td>89</td>\n",
              "      <td>66</td>\n",
              "      <td>23</td>\n",
              "      <td>94</td>\n",
              "      <td>28.1</td>\n",
              "      <td>0.167</td>\n",
              "      <td>21</td>\n",
              "      <td>0</td>\n",
              "    </tr>\n",
              "    <tr>\n",
              "      <th>4</th>\n",
              "      <td>0</td>\n",
              "      <td>137</td>\n",
              "      <td>40</td>\n",
              "      <td>35</td>\n",
              "      <td>168</td>\n",
              "      <td>43.1</td>\n",
              "      <td>2.288</td>\n",
              "      <td>33</td>\n",
              "      <td>1</td>\n",
              "    </tr>\n",
              "  </tbody>\n",
              "</table>\n",
              "</div>"
            ],
            "text/plain": [
              "   Pregnancies  Glucose  BloodPressure  ...  DiabetesPedigreeFunction  Age  Outcome\n",
              "0            6      148             72  ...                     0.627   50        1\n",
              "1            1       85             66  ...                     0.351   31        0\n",
              "2            8      183             64  ...                     0.672   32        1\n",
              "3            1       89             66  ...                     0.167   21        0\n",
              "4            0      137             40  ...                     2.288   33        1\n",
              "\n",
              "[5 rows x 9 columns]"
            ]
          },
          "metadata": {
            "tags": []
          },
          "execution_count": 6
        }
      ]
    },
    {
      "cell_type": "code",
      "metadata": {
        "colab": {
          "base_uri": "https://localhost:8080/"
        },
        "id": "HeJ216yju6aZ",
        "outputId": "cd508704-0c03-4809-98f0-6ae8bc3d51c7"
      },
      "source": [
        "df.info()"
      ],
      "execution_count": 7,
      "outputs": [
        {
          "output_type": "stream",
          "text": [
            "<class 'pandas.core.frame.DataFrame'>\n",
            "RangeIndex: 768 entries, 0 to 767\n",
            "Data columns (total 9 columns):\n",
            " #   Column                    Non-Null Count  Dtype  \n",
            "---  ------                    --------------  -----  \n",
            " 0   Pregnancies               768 non-null    int64  \n",
            " 1   Glucose                   768 non-null    int64  \n",
            " 2   BloodPressure             768 non-null    int64  \n",
            " 3   SkinThickness             768 non-null    int64  \n",
            " 4   Insulin                   768 non-null    int64  \n",
            " 5   BMI                       768 non-null    float64\n",
            " 6   DiabetesPedigreeFunction  768 non-null    float64\n",
            " 7   Age                       768 non-null    int64  \n",
            " 8   Outcome                   768 non-null    int64  \n",
            "dtypes: float64(2), int64(7)\n",
            "memory usage: 54.1 KB\n"
          ],
          "name": "stdout"
        }
      ]
    },
    {
      "cell_type": "markdown",
      "metadata": {
        "id": "KzvY1CWA0THU"
      },
      "source": [
        "No Null values."
      ]
    },
    {
      "cell_type": "code",
      "metadata": {
        "id": "CrlimG4D9j3Q"
      },
      "source": [
        "#Independent features\n",
        "X = df.drop('Outcome', 1)\n",
        "# Dependent Features\n",
        "y = df['Outcome']"
      ],
      "execution_count": 8,
      "outputs": []
    },
    {
      "cell_type": "code",
      "metadata": {
        "id": "CAbfvMGP_Ktz"
      },
      "source": [
        "# replacing any missing values\n",
        "X.replace('?', -99999, inplace=True)"
      ],
      "execution_count": 9,
      "outputs": []
    },
    {
      "cell_type": "code",
      "metadata": {
        "colab": {
          "base_uri": "https://localhost:8080/",
          "height": 215
        },
        "id": "4uu5XIO7_fWp",
        "outputId": "68a898d7-77d7-4fdc-e9cf-2a10eb5ea66b"
      },
      "source": [
        "X.head()"
      ],
      "execution_count": 10,
      "outputs": [
        {
          "output_type": "execute_result",
          "data": {
            "text/html": [
              "<div>\n",
              "<style scoped>\n",
              "    .dataframe tbody tr th:only-of-type {\n",
              "        vertical-align: middle;\n",
              "    }\n",
              "\n",
              "    .dataframe tbody tr th {\n",
              "        vertical-align: top;\n",
              "    }\n",
              "\n",
              "    .dataframe thead th {\n",
              "        text-align: right;\n",
              "    }\n",
              "</style>\n",
              "<table border=\"1\" class=\"dataframe\">\n",
              "  <thead>\n",
              "    <tr style=\"text-align: right;\">\n",
              "      <th></th>\n",
              "      <th>Pregnancies</th>\n",
              "      <th>Glucose</th>\n",
              "      <th>BloodPressure</th>\n",
              "      <th>SkinThickness</th>\n",
              "      <th>Insulin</th>\n",
              "      <th>BMI</th>\n",
              "      <th>DiabetesPedigreeFunction</th>\n",
              "      <th>Age</th>\n",
              "    </tr>\n",
              "  </thead>\n",
              "  <tbody>\n",
              "    <tr>\n",
              "      <th>0</th>\n",
              "      <td>6</td>\n",
              "      <td>148</td>\n",
              "      <td>72</td>\n",
              "      <td>35</td>\n",
              "      <td>0</td>\n",
              "      <td>33.6</td>\n",
              "      <td>0.627</td>\n",
              "      <td>50</td>\n",
              "    </tr>\n",
              "    <tr>\n",
              "      <th>1</th>\n",
              "      <td>1</td>\n",
              "      <td>85</td>\n",
              "      <td>66</td>\n",
              "      <td>29</td>\n",
              "      <td>0</td>\n",
              "      <td>26.6</td>\n",
              "      <td>0.351</td>\n",
              "      <td>31</td>\n",
              "    </tr>\n",
              "    <tr>\n",
              "      <th>2</th>\n",
              "      <td>8</td>\n",
              "      <td>183</td>\n",
              "      <td>64</td>\n",
              "      <td>0</td>\n",
              "      <td>0</td>\n",
              "      <td>23.3</td>\n",
              "      <td>0.672</td>\n",
              "      <td>32</td>\n",
              "    </tr>\n",
              "    <tr>\n",
              "      <th>3</th>\n",
              "      <td>1</td>\n",
              "      <td>89</td>\n",
              "      <td>66</td>\n",
              "      <td>23</td>\n",
              "      <td>94</td>\n",
              "      <td>28.1</td>\n",
              "      <td>0.167</td>\n",
              "      <td>21</td>\n",
              "    </tr>\n",
              "    <tr>\n",
              "      <th>4</th>\n",
              "      <td>0</td>\n",
              "      <td>137</td>\n",
              "      <td>40</td>\n",
              "      <td>35</td>\n",
              "      <td>168</td>\n",
              "      <td>43.1</td>\n",
              "      <td>2.288</td>\n",
              "      <td>33</td>\n",
              "    </tr>\n",
              "  </tbody>\n",
              "</table>\n",
              "</div>"
            ],
            "text/plain": [
              "   Pregnancies  Glucose  BloodPressure  ...   BMI  DiabetesPedigreeFunction  Age\n",
              "0            6      148             72  ...  33.6                     0.627   50\n",
              "1            1       85             66  ...  26.6                     0.351   31\n",
              "2            8      183             64  ...  23.3                     0.672   32\n",
              "3            1       89             66  ...  28.1                     0.167   21\n",
              "4            0      137             40  ...  43.1                     2.288   33\n",
              "\n",
              "[5 rows x 8 columns]"
            ]
          },
          "metadata": {
            "tags": []
          },
          "execution_count": 10
        }
      ]
    },
    {
      "cell_type": "code",
      "metadata": {
        "colab": {
          "base_uri": "https://localhost:8080/"
        },
        "id": "Pi4sH6WN_jnW",
        "outputId": "9464dfcd-69c4-45b7-b42e-68b491acb3fb"
      },
      "source": [
        "y.head()"
      ],
      "execution_count": 11,
      "outputs": [
        {
          "output_type": "execute_result",
          "data": {
            "text/plain": [
              "0    1\n",
              "1    0\n",
              "2    1\n",
              "3    0\n",
              "4    1\n",
              "Name: Outcome, dtype: int64"
            ]
          },
          "metadata": {
            "tags": []
          },
          "execution_count": 11
        }
      ]
    },
    {
      "cell_type": "code",
      "metadata": {
        "id": "3u_YdEBjzD_z"
      },
      "source": [
        "#scaling input\n",
        "a = StandardScaler()\n",
        "a.fit(X)\n",
        "x = a.transform(X)"
      ],
      "execution_count": 12,
      "outputs": []
    },
    {
      "cell_type": "code",
      "metadata": {
        "id": "0p1RaIJl_k6d"
      },
      "source": [
        "# One hot encode\n",
        "Y = []\n",
        "for i in y:\n",
        "  if i == 1:\n",
        "    Y.append([1, 0])  # class 1\n",
        "  elif i == 0:\n",
        "    Y.append([0, 1])  # class 0"
      ],
      "execution_count": 13,
      "outputs": []
    },
    {
      "cell_type": "code",
      "metadata": {
        "colab": {
          "base_uri": "https://localhost:8080/"
        },
        "id": "UGGLapqpvp9O",
        "outputId": "9063cbc5-157d-402b-b4ed-c6d29ffda07c"
      },
      "source": [
        "# Converting into numpy array\n",
        "x = np.array(x)\n",
        "Y = np.array(Y)\n",
        "print(x.shape)\n",
        "print(Y.shape)"
      ],
      "execution_count": 14,
      "outputs": [
        {
          "output_type": "stream",
          "text": [
            "(768, 8)\n",
            "(768, 2)\n"
          ],
          "name": "stdout"
        }
      ]
    },
    {
      "cell_type": "code",
      "metadata": {
        "colab": {
          "base_uri": "https://localhost:8080/"
        },
        "id": "4rvYtN_swV0F",
        "outputId": "e667a934-eb50-4054-e6bf-cf1eece61035"
      },
      "source": [
        "# TRAIN tEST SPLIT USING SKLEARN\n",
        "x_train, x_test, Y_train, Y_test = train_test_split(x, Y, test_size=0.2, random_state=0)\n",
        "print(x_train.shape,x_test.shape,Y_train.shape,Y_test.shape)"
      ],
      "execution_count": 15,
      "outputs": [
        {
          "output_type": "stream",
          "text": [
            "(614, 8) (154, 8) (614, 2) (154, 2)\n"
          ],
          "name": "stdout"
        }
      ]
    },
    {
      "cell_type": "markdown",
      "metadata": {
        "id": "-ajvyLpZcwdf"
      },
      "source": [
        "## L1 REGULARIZATION"
      ]
    },
    {
      "cell_type": "code",
      "metadata": {
        "id": "BsCFOgODXZwI"
      },
      "source": [
        "# BUILDING NEURAL NETWORK\n",
        "model_l1 = Sequential()\n",
        "model_l1.add(Dense(500, input_dim=8, kernel_regularizer=regularizers.l1(1e-4), bias_regularizer=regularizers.l1(1e-4), activity_regularizer=regularizers.l1(1e-4), activation='sigmoid'))\n",
        "model_l1.add(Dense(100,kernel_regularizer=regularizers.l1(1e-4), bias_regularizer=regularizers.l1(1e-4),activity_regularizer=regularizers.l1(1e-4), activation='sigmoid'))\n",
        "model_l1.add(Dense(2, activation='softmax'))\n",
        "model_l1.compile(loss='binary_crossentropy', optimizer='adam', metrics=['accuracy'])"
      ],
      "execution_count": 16,
      "outputs": []
    },
    {
      "cell_type": "code",
      "metadata": {
        "id": "eQH1YLOwYABz"
      },
      "source": [
        "model_l1.fit(x_train,Y_train, epochs=1000, batch_size=70,validation_data=(x_test, Y_test),verbose=0);"
      ],
      "execution_count": 39,
      "outputs": []
    },
    {
      "cell_type": "markdown",
      "metadata": {
        "id": "WuroUeMNuGpi"
      },
      "source": [
        "## L2 REGULARIZATION"
      ]
    },
    {
      "cell_type": "code",
      "metadata": {
        "id": "6fHUmypvYpnA"
      },
      "source": [
        "# BUILDING NEURAL NETWORK\n",
        "model_l2 = Sequential()\n",
        "model_l2.add(Dense(500, input_dim=8, kernel_regularizer=regularizers.l2(1e-4), bias_regularizer=regularizers.l2(1e-4), activity_regularizer=regularizers.l2(1e-4), activation='sigmoid'))\n",
        "model_l2.add(Dense(100,kernel_regularizer=regularizers.l2(1e-4), bias_regularizer=regularizers.l2(1e-4),activity_regularizer=regularizers.l1(1e-4), activation='sigmoid'))\n",
        "model_l2.add(Dense(2, activation='softmax'))\n",
        "model_l2.compile(loss='binary_crossentropy', optimizer='adam', metrics=['accuracy'])"
      ],
      "execution_count": 18,
      "outputs": []
    },
    {
      "cell_type": "code",
      "metadata": {
        "colab": {
          "base_uri": "https://localhost:8080/"
        },
        "id": "ooh-i_ihYpnC",
        "outputId": "ab8c6f73-bb37-406e-800d-2c4865417840"
      },
      "source": [
        "model_l2.fit(x_train,Y_train, epochs=1000, batch_size=70, validation_data=(x_test, Y_test), verbose=0)"
      ],
      "execution_count": 37,
      "outputs": [
        {
          "output_type": "execute_result",
          "data": {
            "text/plain": [
              "<tensorflow.python.keras.callbacks.History at 0x7f49a6ce6790>"
            ]
          },
          "metadata": {
            "tags": []
          },
          "execution_count": 37
        }
      ]
    },
    {
      "cell_type": "markdown",
      "metadata": {
        "id": "zioIjQHLN-8Y"
      },
      "source": [
        "## Early Stopping"
      ]
    },
    {
      "cell_type": "code",
      "metadata": {
        "id": "PSFuquHaOG7I"
      },
      "source": [
        "# BUILDING NEURAL NETWORK\n",
        "model_es = Sequential()\n",
        "model_es.add(Dense(500, input_dim=8, activation='sigmoid'))\n",
        "model_es.add(Dense(100, activation='sigmoid'))\n",
        "model_es.add(Dense(2, activation='softmax'))\n",
        "model_es.compile(loss='mean_squared_error', optimizer='adam', metrics=['accuracy'])"
      ],
      "execution_count": 20,
      "outputs": []
    },
    {
      "cell_type": "code",
      "metadata": {
        "colab": {
          "base_uri": "https://localhost:8080/"
        },
        "id": "a8Eu1PXSOG3n",
        "outputId": "43cf21c5-78e9-4d7f-cf4e-4ef912e4e6ff"
      },
      "source": [
        "es = EarlyStopping(monitor='val_loss',patience=100)\n",
        "model_es.fit(x_train,Y_train, epochs=1000, batch_size=70, validation_data=(x_test,Y_test),callbacks=[es],verbose=0)"
      ],
      "execution_count": 40,
      "outputs": [
        {
          "output_type": "execute_result",
          "data": {
            "text/plain": [
              "<tensorflow.python.keras.callbacks.History at 0x7f49a6c89210>"
            ]
          },
          "metadata": {
            "tags": []
          },
          "execution_count": 40
        }
      ]
    },
    {
      "cell_type": "markdown",
      "metadata": {
        "id": "Ww8MkVsePkmL"
      },
      "source": [
        "## Dropout"
      ]
    },
    {
      "cell_type": "code",
      "metadata": {
        "id": "dlRroGV3OGzk"
      },
      "source": [
        "# BUILDING NEURAL NETWORK\n",
        "model_dropout = Sequential()\n",
        "model_dropout.add(Dense(500, input_dim=8, activation='sigmoid'))\n",
        "model_dropout.add(Dropout(0.3,noise_shape=None, seed=None))\n",
        "model_dropout.add(Dense(100, activation='sigmoid'))\n",
        "model_dropout.add(Dropout(0.3,noise_shape=None, seed=None))\n",
        "model_dropout.add(Dense(2, activation='softmax'))\n",
        "model_dropout.compile(loss='mean_squared_error', optimizer='adam', metrics=['accuracy'])"
      ],
      "execution_count": 22,
      "outputs": []
    },
    {
      "cell_type": "code",
      "metadata": {
        "colab": {
          "base_uri": "https://localhost:8080/"
        },
        "id": "ZlUNX7uxOGvs",
        "outputId": "f189680c-2d0a-4cd6-9f1b-1bc95cfe2cbd"
      },
      "source": [
        "model_dropout.fit(x_train,Y_train, epochs=1000, batch_size=70, validation_data=(x_test, Y_test),verbose=0)"
      ],
      "execution_count": 41,
      "outputs": [
        {
          "output_type": "execute_result",
          "data": {
            "text/plain": [
              "<tensorflow.python.keras.callbacks.History at 0x7f49a63d9490>"
            ]
          },
          "metadata": {
            "tags": []
          },
          "execution_count": 41
        }
      ]
    },
    {
      "cell_type": "markdown",
      "metadata": {
        "id": "2aVS96ztRgit"
      },
      "source": [
        "## Recall,Precision,Accuracy,F1_score"
      ]
    },
    {
      "cell_type": "code",
      "metadata": {
        "id": "KQcefJ34QmYQ"
      },
      "source": [
        "# actual and predicted value for all the model above\n",
        "y_l1=np.argmax(model_l1.predict(x_test),axis=1)\n",
        "y_l2=np.argmax(model_l2.predict(x_test),axis=1)\n",
        "y_es=np.argmax(model_es.predict(x_test),axis=1)\n",
        "y_dropout=np.argmax(model_dropout.predict(x_test),axis=1)\n",
        "y_pred=[y_l1,y_l2,y_es,y_dropout]\n",
        "y_actual=np.argmax(Y_test, axis=1)"
      ],
      "execution_count": 42,
      "outputs": []
    },
    {
      "cell_type": "code",
      "metadata": {
        "id": "LY_iuyZLQmYa"
      },
      "source": [
        "from sklearn.metrics import recall_score,precision_score,accuracy_score,f1_score\n",
        "recall=[]\n",
        "precision=[]\n",
        "accuracy=[]\n",
        "f1_score_=[]\n",
        "for i in y_pred:\n",
        "  r=recall_score(y_actual,i)\n",
        "  recall.append(r)\n",
        "\n",
        "  p=precision_score(y_actual,i)\n",
        "  precision.append(p)\n",
        "\n",
        "  a=accuracy_score(y_actual,i)\n",
        "  accuracy.append(a)\n",
        "\n",
        "  f=f1_score(y_actual, i, average='binary')\n",
        "  f1_score_.append(f)"
      ],
      "execution_count": 43,
      "outputs": []
    },
    {
      "cell_type": "code",
      "metadata": {
        "id": "nIry_UwtvlU_"
      },
      "source": [
        "regularization=[\"L1 regularizer\",\"L2 regularizer\",\"Early Stop\",\"Dropout\"]\n",
        "chr = [\"Kernel=0.0001,Bias=0.0001,Activity=0.0001\",\"Kernel=0.0001,Bias=0.0001,Activity=0.0001\",\"Validation loss & patience=100\",\"Dropout=0.3 in all hidden layer\"]"
      ],
      "execution_count": 44,
      "outputs": []
    },
    {
      "cell_type": "code",
      "metadata": {
        "id": "j7-UwCizvzkl"
      },
      "source": [
        "result = pd.DataFrame.from_dict({\"Type\":regularization,\"Charachterstics\":chr,\"Recall\":recall,\"Accuracy\":accuracy,\"Precision\":precision,\"F1 Score\":f1_score_})"
      ],
      "execution_count": 45,
      "outputs": []
    },
    {
      "cell_type": "markdown",
      "metadata": {
        "id": "cvO-DeLXZJa3"
      },
      "source": [
        "## Report"
      ]
    },
    {
      "cell_type": "code",
      "metadata": {
        "colab": {
          "base_uri": "https://localhost:8080/",
          "height": 166
        },
        "id": "lK9eBCpAyKR_",
        "outputId": "097db0b7-f569-4f57-e652-1c53282af5dc"
      },
      "source": [
        "result"
      ],
      "execution_count": 46,
      "outputs": [
        {
          "output_type": "execute_result",
          "data": {
            "text/html": [
              "<div>\n",
              "<style scoped>\n",
              "    .dataframe tbody tr th:only-of-type {\n",
              "        vertical-align: middle;\n",
              "    }\n",
              "\n",
              "    .dataframe tbody tr th {\n",
              "        vertical-align: top;\n",
              "    }\n",
              "\n",
              "    .dataframe thead th {\n",
              "        text-align: right;\n",
              "    }\n",
              "</style>\n",
              "<table border=\"1\" class=\"dataframe\">\n",
              "  <thead>\n",
              "    <tr style=\"text-align: right;\">\n",
              "      <th></th>\n",
              "      <th>Type</th>\n",
              "      <th>Charachterstics</th>\n",
              "      <th>Recall</th>\n",
              "      <th>Accuracy</th>\n",
              "      <th>Precision</th>\n",
              "      <th>F1 Score</th>\n",
              "    </tr>\n",
              "  </thead>\n",
              "  <tbody>\n",
              "    <tr>\n",
              "      <th>0</th>\n",
              "      <td>L1 regularizer</td>\n",
              "      <td>Kernel=0.0001,Bias=0.0001,Activity=0.0001</td>\n",
              "      <td>0.785047</td>\n",
              "      <td>0.740260</td>\n",
              "      <td>0.831683</td>\n",
              "      <td>0.807692</td>\n",
              "    </tr>\n",
              "    <tr>\n",
              "      <th>1</th>\n",
              "      <td>L2 regularizer</td>\n",
              "      <td>Kernel=0.0001,Bias=0.0001,Activity=0.0001</td>\n",
              "      <td>0.850467</td>\n",
              "      <td>0.785714</td>\n",
              "      <td>0.842593</td>\n",
              "      <td>0.846512</td>\n",
              "    </tr>\n",
              "    <tr>\n",
              "      <th>2</th>\n",
              "      <td>Early Stop</td>\n",
              "      <td>Validation loss &amp; patience=100</td>\n",
              "      <td>0.859813</td>\n",
              "      <td>0.779221</td>\n",
              "      <td>0.828829</td>\n",
              "      <td>0.844037</td>\n",
              "    </tr>\n",
              "    <tr>\n",
              "      <th>3</th>\n",
              "      <td>Dropout</td>\n",
              "      <td>Dropout=0.3 in all hidden layer</td>\n",
              "      <td>0.822430</td>\n",
              "      <td>0.785714</td>\n",
              "      <td>0.862745</td>\n",
              "      <td>0.842105</td>\n",
              "    </tr>\n",
              "  </tbody>\n",
              "</table>\n",
              "</div>"
            ],
            "text/plain": [
              "             Type  ...  F1 Score\n",
              "0  L1 regularizer  ...  0.807692\n",
              "1  L2 regularizer  ...  0.846512\n",
              "2      Early Stop  ...  0.844037\n",
              "3         Dropout  ...  0.842105\n",
              "\n",
              "[4 rows x 6 columns]"
            ]
          },
          "metadata": {
            "tags": []
          },
          "execution_count": 46
        }
      ]
    },
    {
      "cell_type": "markdown",
      "metadata": {
        "id": "Nb0luGoMZMvq"
      },
      "source": [
        "**Between L1 and L2 , L2 is performing better in terms of accuracy and F1_score**"
      ]
    },
    {
      "cell_type": "markdown",
      "metadata": {
        "id": "JMqMsENLZZs1"
      },
      "source": [
        "**Between Early Stop and Dropout, Drop out is performing better in terms of accuracy and F1_score.**"
      ]
    },
    {
      "cell_type": "markdown",
      "metadata": {
        "id": "eEO8BRZbZt3w"
      },
      "source": [
        "**Comparing all models simultaneously, L2 Regularizer, Early stop and Dropout are performing equally well.**"
      ]
    }
  ]
}